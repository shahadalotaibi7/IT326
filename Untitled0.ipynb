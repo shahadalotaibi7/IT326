{
  "nbformat": 4,
  "nbformat_minor": 0,
  "metadata": {
    "colab": {
      "provenance": [],
      "include_colab_link": true
    },
    "kernelspec": {
      "name": "python3",
      "display_name": "Python 3"
    },
    "language_info": {
      "name": "python"
    }
  },
  "cells": [
    {
      "cell_type": "markdown",
      "metadata": {
        "id": "view-in-github",
        "colab_type": "text"
      },
      "source": [
        "<a href=\"https://colab.research.google.com/github/shahadalotaibi7/IT326/blob/main/Untitled0.ipynb\" target=\"_parent\"><img src=\"https://colab.research.google.com/assets/colab-badge.svg\" alt=\"Open In Colab\"/></a>"
      ]
    },
    {
      "cell_type": "code",
      "execution_count": null,
      "metadata": {
        "id": "yJR2Ea6gjnb6"
      },
      "outputs": [],
      "source": [
        "# Importing the Pandas library for data manipulation\n",
        "import pandas as pd\n",
        "\n",
        "# Importing NumPy for numerical operations\n",
        "import numpy as np\n",
        "\n",
        "# Importing LabelEncoder from scikit-learn to encode categorical features\n",
        "from sklearn.preprocessing import LabelEncoder\n",
        "\n",
        "# Importing MinMaxScaler and StandardScaler for feature scaling\n",
        "from sklearn.preprocessing import MinMaxScaler, StandardScaler\n",
        "\n",
        "# Importing SelectKBest and f_classif for feature selection\n",
        "from sklearn.feature_selection import SelectKBest, f_classif\n",
        "\n",
        "# Importing Matplotlib for data visualization\n",
        "import matplotlib.pyplot as plt\n",
        "\n",
        "# Importing Seaborn for advanced data visualization\n",
        "import seaborn as sn\n"
      ]
    },
    {
      "cell_type": "code",
      "source": [
        "df = pd.read_csv('/content/Reduced_Dataset.csv')\n",
        "print(\"Dataset Preview:\")\n",
        "print(df.head())\n"
      ],
      "metadata": {
        "colab": {
          "base_uri": "https://localhost:8080/"
        },
        "id": "KvFDN1qjkjq0",
        "outputId": "f76b1469-4c43-4d07-9c88-e1350485abc8"
      },
      "execution_count": null,
      "outputs": [
        {
          "output_type": "stream",
          "name": "stdout",
          "text": [
            "Dataset Preview:\n",
            "         id diagnosis  radius_mean  texture_mean  perimeter_mean  area_mean  \\\n",
            "0    842302         M        17.99         10.38          122.80     1001.0   \n",
            "1    842517         M        20.57         17.77          132.90     1326.0   \n",
            "2  84300903         M        19.69         21.25          130.00     1203.0   \n",
            "3  84348301         M        11.42         20.38           77.58      386.1   \n",
            "4  84358402         M        20.29         14.34          135.10     1297.0   \n",
            "\n",
            "   smoothness_mean  compactness_mean  concavity_mean  concave points_mean  \n",
            "0          0.11840           0.27760          0.3001              0.14710  \n",
            "1          0.08474           0.07864          0.0869              0.07017  \n",
            "2          0.10960           0.15990          0.1974              0.12790  \n",
            "3          0.14250           0.28390          0.2414              0.10520  \n",
            "4          0.10030           0.13280          0.1980              0.10430  \n"
          ]
        }
      ]
    },
    {
      "cell_type": "code",
      "source": [
        "from google.colab import drive\n",
        "drive.mount('/content/drive')"
      ],
      "metadata": {
        "id": "DrJbkkuA_Q7v",
        "colab": {
          "base_uri": "https://localhost:8080/"
        },
        "outputId": "2d3060f6-a1b1-41d9-9b67-a8144a0065b4"
      },
      "execution_count": null,
      "outputs": [
        {
          "output_type": "stream",
          "name": "stdout",
          "text": [
            "Mounted at /content/drive\n"
          ]
        }
      ]
    },
    {
      "cell_type": "markdown",
      "source": [
        "# New Section"
      ],
      "metadata": {
        "id": "XP8UgNOHj4Ie"
      }
    },
    {
      "cell_type": "code",
      "source": [
        "#checking if the data set has any missing values\n",
        "print(df.isnull().sum())"
      ],
      "metadata": {
        "colab": {
          "base_uri": "https://localhost:8080/"
        },
        "id": "SggXOx8DzPvU",
        "outputId": "d8645b15-3f64-4d1a-db2c-03f79f49f79d"
      },
      "execution_count": null,
      "outputs": [
        {
          "output_type": "stream",
          "name": "stdout",
          "text": [
            "id                     0\n",
            "diagnosis              0\n",
            "radius_mean            0\n",
            "texture_mean           0\n",
            "perimeter_mean         0\n",
            "area_mean              0\n",
            "smoothness_mean        0\n",
            "compactness_mean       0\n",
            "concavity_mean         0\n",
            "concave points_mean    0\n",
            "dtype: int64\n"
          ]
        }
      ]
    },
    {
      "cell_type": "code",
      "source": [
        "# Importing LabelEncoder from scikit-learn for encoding categorical labels\n",
        "from sklearn.preprocessing import LabelEncoder\n",
        "\n",
        "# Creating an instance of LabelEncoder\n",
        "le = LabelEncoder()\n",
        "\n",
        "# Encoding the 'diagnosis' column:\n",
        "# Converts categorical values (like text labels) into numeric values (0, 1, etc.)\n",
        "df['diagnosis'] = le.fit_transform(df['diagnosis'])\n",
        "\n",
        "# Displaying the transformed 'diagnosis' column and the counts of unique values\n",
        "print(\"Transformed 'diagnosis' column:\")\n",
        "print(df['diagnosis'].value_counts())"
      ],
      "metadata": {
        "colab": {
          "base_uri": "https://localhost:8080/"
        },
        "id": "mT40MtKzzUKr",
        "outputId": "a30a87a7-1371-4e20-d286-24887d47dd21"
      },
      "execution_count": null,
      "outputs": [
        {
          "output_type": "stream",
          "name": "stdout",
          "text": [
            "Transformed 'diagnosis' column:\n",
            "diagnosis\n",
            "0    357\n",
            "1    212\n",
            "Name: count, dtype: int64\n"
          ]
        }
      ]
    },
    {
      "cell_type": "code",
      "source": [
        "# Print message indicating the start of log transformation\n",
        "print(\"\\nApplying Log Transformation to Skewed Features:\")\n",
        "\n",
        "# Select numeric columns and calculate the skewness for each column\n",
        "skewed_features = df.select_dtypes(include=[np.number]).apply(lambda x: x.skew()).sort_values(ascending=False)\n",
        "\n",
        "# Filter features with skewness greater than 1 (highly skewed)\n",
        "skewed_features = skewed_features[skewed_features > 1].index\n",
        "\n",
        "# Apply log transformation to reduce skewness for each skewed feature\n",
        "for feature in skewed_features:\n",
        "    # Apply log(1 + x) transformation to handle potential zero values\n",
        "    df[feature] = np.log1p(df[feature])\n",
        "\n",
        "    # Print the name of the transformed feature\n",
        "    print(f\"Transformed feature: {feature}\")\n"
      ],
      "metadata": {
        "colab": {
          "base_uri": "https://localhost:8080/"
        },
        "id": "smDu0py_tliI",
        "outputId": "e5dba027-5fdf-4b14-c700-2d4e161f55bb"
      },
      "execution_count": null,
      "outputs": [
        {
          "output_type": "stream",
          "name": "stdout",
          "text": [
            "\n",
            "Applying Log Transformation to Skewed Features:\n",
            "Transformed feature: id\n",
            "Transformed feature: area_mean\n",
            "Transformed feature: concavity_mean\n",
            "Transformed feature: compactness_mean\n",
            "Transformed feature: concave points_mean\n"
          ]
        }
      ]
    },
    {
      "cell_type": "code",
      "source": [
        "# Bin the 'area_mean' column into 5 equal-sized bins and assign custom labels\n",
        "df['area_mean_binned'] = pd.cut(\n",
        "    df['area_mean'],\n",
        "    bins=5,\n",
        "    labels=['Low', 'Medium-Low', 'Medium', 'Medium-High', 'High']\n",
        ")\n",
        "\n",
        "# Print a message and display the count of values in each bin\n",
        "print(\"Binned 'area_mean' column:\")\n",
        "print(df['area_mean_binned'].value_counts())\n"
      ],
      "metadata": {
        "id": "AXpwmD2HztJ7",
        "outputId": "ac0b0d42-8842-4ae0-fed6-4a72b66a80ea",
        "colab": {
          "base_uri": "https://localhost:8080/"
        }
      },
      "execution_count": null,
      "outputs": [
        {
          "output_type": "stream",
          "name": "stdout",
          "text": [
            "Binned 'area_mean' column:\n",
            "area_mean_binned\n",
            "Medium         250\n",
            "Medium-Low     160\n",
            "Medium-High    121\n",
            "Low             20\n",
            "High            18\n",
            "Name: count, dtype: int64\n"
          ]
        }
      ]
    },
    {
      "cell_type": "code",
      "source": [
        "\n",
        "X = df.iloc[:, :-1]  # Features\n",
        "y = df.iloc[:, -1]   # Target variable\n",
        "\n",
        "# Encode non-numeric columns\n",
        "for col in X.columns:\n",
        "    if X[col].dtype == 'object':\n",
        "        print(f\"Encoding column: {col}\")\n",
        "        le = LabelEncoder()\n",
        "        X[col] = le.fit_transform(X[col])\n",
        "\n",
        "# Feature Selection using SelectKBest\n",
        "# Select top 5 features based on ANOVA F-test\n",
        "selector = SelectKBest(score_func=f_classif, k=5)\n",
        "X_new = selector.fit_transform(X, y)\n",
        "selected_features = X.columns[selector.get_support()]\n",
        "\n",
        "print(\"\\nSelected Features:\")\n",
        "print(selected_features)\n",
        "\n"
      ],
      "metadata": {
        "colab": {
          "base_uri": "https://localhost:8080/"
        },
        "id": "3jpD8TZRwWVq",
        "outputId": "4ef89992-36bc-4ea7-f38a-ab89ee5b3338"
      },
      "execution_count": null,
      "outputs": [
        {
          "output_type": "stream",
          "name": "stdout",
          "text": [
            "Encoding column: diagnosis\n",
            "\n",
            "Selected Features:\n",
            "Index(['diagnosis', 'radius_mean', 'perimeter_mean', 'compactness_mean',\n",
            "       'concavity_mean'],\n",
            "      dtype='object')\n"
          ]
        }
      ]
    },
    {
      "cell_type": "code",
      "source": [
        "# Normalization using Min-Max Scaling\n",
        "scaler_minmax = MinMaxScaler()\n",
        "X_minmax_scaled = scaler_minmax.fit_transform(X)\n",
        "\n",
        "print(\"\\nMin-Max Scaled Features (first 5 rows):\")\n",
        "print(X_minmax_scaled[:5])\n",
        "\n",
        "# Normalization using Standard Scaling (Z-Score)\n",
        "scaler_standard = StandardScaler()\n",
        "X_standard_scaled = scaler_standard.fit_transform(X)\n",
        "\n",
        "print(\"\\nStandard Scaled Features (first 5 rows):\")\n",
        "print(X_standard_scaled[:5])\n",
        "\n",
        "# Visualizing the effects of normalization\n",
        "plt.figure(figsize=(12, 5))\n",
        "plt.subplot(1, 2, 1)\n",
        "plt.boxplot(X_minmax_scaled)\n",
        "plt.title('Min-Max Scaled Features')\n",
        "\n",
        "plt.subplot(1, 2, 2)\n",
        "plt.boxplot(X_standard_scaled)\n",
        "plt.title('Standard Scaled Features')\n",
        "\n",
        "plt.show()"
      ],
      "metadata": {
        "colab": {
          "base_uri": "https://localhost:8080/",
          "height": 742
        },
        "id": "KZVuBGV0yd9Z",
        "outputId": "8e0b4048-f277-4a2c-d181-f4a643a61640"
      },
      "execution_count": null,
      "outputs": [
        {
          "output_type": "stream",
          "name": "stdout",
          "text": [
            "\n",
            "Min-Max Scaled Features (first 5 rows):\n",
            "[[0.39576995 1.         0.52103744 0.0226581  0.54598853 0.6790913\n",
            "  0.59375282 0.81366252 0.7383679 ]\n",
            " [0.39579202 1.         0.64314449 0.27257355 0.61578329 0.77760654\n",
            "  0.28987993 0.203629   0.23444456]\n",
            " [0.79412169 1.         0.60149557 0.3902604  0.59574321 0.74349497\n",
            "  0.51430893 0.46537189 0.50685205]\n",
            " [0.79417031 1.         0.2100904  0.36083869 0.23350149 0.34556573\n",
            "  0.81132075 0.83138886 0.60838206]\n",
            " [0.79418066 1.         0.62989256 0.15657761 0.63098611 0.76985777\n",
            "  0.43035118 0.38017684 0.50826148]]\n",
            "\n",
            "Standard Scaled Features (first 5 rows):\n",
            "[[-0.48723531  1.29767572  1.09706398 -2.07333501  1.26993369  1.13031862\n",
            "   1.56846633  3.15067506  2.56794723]\n",
            " [-0.48710941  1.29767572  1.82982061 -0.35363241  1.68595471  1.71332727\n",
            "  -0.82696245 -0.48157492  0.01110371]\n",
            " [ 1.78500805  1.29767572  1.57988811  0.45618695  1.56650313  1.51145657\n",
            "   0.94221044  1.07688962  1.39326499]\n",
            " [ 1.78528534  1.29767572 -0.76890929  0.25373211 -0.59268717 -0.84347011\n",
            "   3.28355348  3.25622091  1.90841546]\n",
            " [ 1.78534441  1.29767572  1.75029663 -1.15181643  1.77657315  1.6674704\n",
            "   0.28037183  0.56962289  1.40041627]]\n"
          ]
        },
        {
          "output_type": "display_data",
          "data": {
            "text/plain": [
              "<Figure size 1200x500 with 2 Axes>"
            ],
            "image/png": "[encoded data removed]"
          },
          "metadata": {}
        }
      ]
    },
    {
      "cell_type": "code",
      "source": [
        "# Convert the 'radius_mean' column to numeric, coercing any non-convertible values to NaN\n",
        "df[\"radius_mean\"] = pd.to_numeric(df[\"radius_mean\"], errors=\"coerce\")\n",
        "\n",
        "# Drop rows with missing values (NaN) in the 'radius_mean' column\n",
        "df = df.dropna(subset=[\"radius_mean\"])\n",
        "\n",
        "# Define the target column for outlier detection\n",
        "column = \"radius_mean\"\n",
        "\n",
        "# Calculate the mean of the 'radius_mean' column\n",
        "mean = df[column].mean()\n",
        "\n",
        "# Calculate the standard deviation of the 'radius_mean' column\n",
        "std_dev = df[column].std()\n",
        "\n",
        "# Define the outlier threshold as 3 standard deviations from the mean\n",
        "threshold = 3\n",
        "\n",
        "# Identify rows where the absolute deviation from the mean exceeds the threshold\n",
        "outliers = df[df[column].apply(lambda x: abs(x - mean) > threshold * std_dev)]\n",
        "\n",
        "# Print the outliers in the specified column\n",
        "print(\"Outliers in\", column, \"column:\")\n",
        "print(outliers)\n"
      ],
      "metadata": {
        "colab": {
          "base_uri": "https://localhost:8080/"
        },
        "id": "IHiZumYlg23N",
        "outputId": "4efe60be-ac16-4326-8357-fb0410427d49"
      },
      "execution_count": null,
      "outputs": [
        {
          "output_type": "stream",
          "name": "stdout",
          "text": [
            "Outliers in radius_mean column:\n",
            "            id  diagnosis  radius_mean  texture_mean  perimeter_mean  \\\n",
            "82   15.968616          1        25.22         24.91           171.5   \n",
            "180  13.680370          1        27.22         21.87           182.1   \n",
            "212  15.991478          1        28.11         18.47           188.5   \n",
            "352  13.710137          1        25.73         17.46           174.2   \n",
            "461  20.630379          1        27.42         26.27           186.9   \n",
            "\n",
            "     area_mean  smoothness_mean  compactness_mean  concavity_mean  \\\n",
            "82    7.538495           0.1063          0.236257        0.288107   \n",
            "180   7.719130           0.1094          0.175129        0.252392   \n",
            "212   7.824046           0.1142          0.141152        0.277707   \n",
            "352   7.606387           0.1149          0.212123        0.290279   \n",
            "461   7.824846           0.1084          0.181321        0.310055   \n",
            "\n",
            "     concave points_mean area_mean_binned  \n",
            "82              0.169321             High  \n",
            "180             0.172103             High  \n",
            "212             0.147989             High  \n",
            "352             0.175045             High  \n",
            "461             0.156063             High  \n"
          ]
        }
      ]
    }
  ]
}