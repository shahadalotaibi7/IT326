{
 "cells": [
  {
   "cell_type": "code",
   "execution_count": null,
   "id": "8362e00a-bea7-4f85-af0d-42946cd55fbd",
   "metadata": {},
   "outputs": [],
   "source": [
    "The primary goal of this dataset is for breast cancer classification, \n",
    "specifically to predict, diagnose, and distinguish between malignant and benign tumors based on various medical attributes. \n",
    "\n",
    "The dataset is available on Kaggle at the following link:\n",
    "https://www.kaggle.com/datasets/imtkaggleteam/breast-cancer\n",
    "\n",
    "General information about the dataset:\n",
    "\n",
    "Number of attributes: 10\n",
    "\n",
    "Types of attributes: numeric values\n",
    "\n",
    "Number of objects (samples): 569\n",
    "\n",
    "The dataset contains two classes:\n",
    "Malignant (cancerous)\n",
    "Benign (non-cancerous)"
   ]
  }
 ],
 "metadata": {
  "kernelspec": {
   "display_name": "",
   "name": ""
  },
  "language_info": {
   "name": ""
  }
 },
 "nbformat": 4,
 "nbformat_minor": 5
}
